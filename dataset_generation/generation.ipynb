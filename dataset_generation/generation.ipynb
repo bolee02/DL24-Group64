{
 "cells": [
  {
   "cell_type": "code",
   "execution_count": 11,
   "id": "4535cccd-f988-4608-8bfb-e98366444290",
   "metadata": {},
   "outputs": [],
   "source": [
    "import sys\n",
    "sys.path.append(\"../../src\")\n",
    "import os\n",
    "import datetime\n",
    "import pandas as pd\n",
    "import numpy as np\n",
    "\n",
    "import scipy.io as sio\n",
    "#from sindy_utils import library_size\n",
    "from scipy.special import binom\n",
    "from scipy.integrate import odeint\n",
    "\n",
    "import tensorflow as tf"
   ]
  },
  {
   "cell_type": "code",
   "execution_count": 12,
   "id": "4675a660-f19d-4e34-9102-d281500711a6",
   "metadata": {},
   "outputs": [],
   "source": [
    "def get_rd_data(random=True):\n",
    "    data = sio.loadmat('reaction_diffusion.mat')\n",
    "\n",
    "    n_samples = data['t'].size\n",
    "    n = data['x'].size\n",
    "    N = n*n\n",
    "\n",
    "    data['uf'] += 1e-6*np.random.randn(data['uf'].shape[0], data['uf'].shape[1], data['uf'].shape[2])\n",
    "    data['duf'] += 1e-6*np.random.randn(data['duf'].shape[0], data['duf'].shape[1], data['duf'].shape[2])\n",
    "\n",
    "    if not random:\n",
    "        # consecutive samples\n",
    "        training_samples = np.arange(int(.8*n_samples))\n",
    "        val_samples = np.arange(int(.8*n_samples), int(.9*n_samples))\n",
    "        test_samples = np.arange(int(.9*n_samples), n_samples)\n",
    "    else:\n",
    "        # random samples\n",
    "        perm = np.random.permutation(int(.9*n_samples))\n",
    "        training_samples = perm[:int(.8*n_samples)]\n",
    "        val_samples = perm[int(.8*n_samples):]\n",
    "\n",
    "        test_samples = np.arange(int(.9*n_samples), n_samples)\n",
    "\n",
    "    training_data = {'t': data['t'][training_samples],\n",
    "                     'y1': data['x'].T,\n",
    "                     'y2': data['y'].T,\n",
    "                     'x': data['uf'][:,:,training_samples].reshape((N,-1)).T,\n",
    "                     'dx': data['duf'][:,:,training_samples].reshape((N,-1)).T}\n",
    "    val_data = {'t': data['t'][val_samples],\n",
    "                'y1': data['x'].T,\n",
    "                'y2': data['y'].T,\n",
    "                'x': data['uf'][:,:,val_samples].reshape((N,-1)).T,\n",
    "                'dx': data['duf'][:,:,val_samples].reshape((N,-1)).T}\n",
    "    test_data = {'t': data['t'][test_samples],\n",
    "                 'y1': data['x'].T,\n",
    "                 'y2': data['y'].T,\n",
    "                 'x': data['uf'][:,:,test_samples].reshape((N,-1)).T,\n",
    "                 'dx': data['duf'][:,:,test_samples].reshape((N,-1)).T}\n",
    "\n",
    "    return training_data, val_data, test_data"
   ]
  },
  {
   "cell_type": "code",
   "execution_count": 13,
   "id": "5482073d-47d8-4fda-8df7-7559e1e7068b",
   "metadata": {},
   "outputs": [],
   "source": [
    "def library_size(n, poly_order, use_sine=False, include_constant=True):\n",
    "    l = 0\n",
    "    for k in range(poly_order+1):\n",
    "        l += int(binom(n+k-1,k))\n",
    "    if use_sine:\n",
    "        l += n\n",
    "    if not include_constant:\n",
    "        l -= 1\n",
    "    return l"
   ]
  },
  {
   "cell_type": "markdown",
   "id": "3f086b02-d4b8-48cd-8cf3-63030294b584",
   "metadata": {},
   "source": [
    "# Generate data"
   ]
  },
  {
   "cell_type": "code",
   "execution_count": 14,
   "id": "65a02a2b-6145-4e43-a539-ef55ea92649a",
   "metadata": {},
   "outputs": [],
   "source": [
    "import pickle\n",
    "\n",
    "training_data, validation_data, test_data = get_rd_data() \n",
    "\n",
    "pickle.dump(training_data, open('training_data.pkl', 'wb'))\n",
    "pickle.dump(validation_data, open('validation_data.pkl', 'wb'))\n",
    "pickle.dump(test_data, open('test_data.pkl', 'wb'))"
   ]
  },
  {
   "cell_type": "markdown",
   "id": "1f905a10-2b25-4d94-81f0-89c6eb38981f",
   "metadata": {},
   "source": [
    "# Set up model and training parameters"
   ]
  },
  {
   "cell_type": "code",
   "execution_count": 27,
   "id": "f9dbd32a-71c7-4356-892f-6ac385bf6abc",
   "metadata": {},
   "outputs": [],
   "source": [
    "params = {}\n",
    "\n",
    "params['input_dim'] = training_data['y1'].size*training_data['y2'].size\n",
    "params['latent_dim'] = 2\n",
    "params['model_order'] = 1\n",
    "params['poly_order'] = 3\n",
    "params['include_sine'] = True\n",
    "params['library_dim'] = library_size(params['latent_dim'], params['poly_order'], params['include_sine'], True)\n",
    "\n",
    "# sequential thresholding parameters\n",
    "params['sequential_thresholding'] = True\n",
    "params['coefficient_threshold'] = 0.1\n",
    "params['threshold_frequency'] = 500\n",
    "params['coefficient_mask'] = np.ones((params['library_dim'], params['latent_dim']))\n",
    "params['coefficient_initialization'] = 'constant'\n",
    "\n",
    "# loss function weighting\n",
    "params['loss_weight_decoder'] = 1.0\n",
    "params['loss_weight_sindy_z'] = 0.01\n",
    "params['loss_weight_sindy_x'] = 0.5\n",
    "params['loss_weight_sindy_regularization'] = 0.1\n",
    "\n",
    "params['activation'] = 'sigmoid'\n",
    "params['widths'] = [256]\n",
    "\n",
    "# training parameters\n",
    "params['epoch_size'] = training_data['t'].size\n",
    "params['batch_size'] = 1000\n",
    "params['learning_rate'] = 1e-3\n",
    "\n",
    "params['data_path'] = os.getcwd() + '/'\n",
    "params['print_progress'] = True\n",
    "params['print_frequency'] = 100\n",
    "\n",
    "# training time cutoffs\n",
    "params['max_epochs'] = 3001\n",
    "params['refinement_epochs'] = 1001"
   ]
  },
  {
   "cell_type": "markdown",
   "id": "b4d995d8-f9f6-4f84-a189-e3d73c9c7c23",
   "metadata": {},
   "source": [
    "# Run training experiments"
   ]
  },
  {
   "cell_type": "code",
   "execution_count": 20,
   "id": "d3159668-43fd-4be3-bbd0-014c59912af5",
   "metadata": {},
   "outputs": [
    {
     "name": "stdout",
     "output_type": "stream",
     "text": [
      "EXPERIMENT 0\n"
     ]
    },
    {
     "ename": "AttributeError",
     "evalue": "module 'tensorflow' has no attribute 'reset_default_graph'",
     "output_type": "error",
     "traceback": [
      "\u001b[1;31m---------------------------------------------------------------------------\u001b[0m",
      "\u001b[1;31mAttributeError\u001b[0m                            Traceback (most recent call last)",
      "Cell \u001b[1;32mIn[20], line 10\u001b[0m\n\u001b[0;32m      6\u001b[0m params[\u001b[38;5;124m'\u001b[39m\u001b[38;5;124mcoefficient_mask\u001b[39m\u001b[38;5;124m'\u001b[39m] \u001b[38;5;241m=\u001b[39m np\u001b[38;5;241m.\u001b[39mones((params[\u001b[38;5;124m'\u001b[39m\u001b[38;5;124mlibrary_dim\u001b[39m\u001b[38;5;124m'\u001b[39m], params[\u001b[38;5;124m'\u001b[39m\u001b[38;5;124mlatent_dim\u001b[39m\u001b[38;5;124m'\u001b[39m]))\n\u001b[0;32m      8\u001b[0m params[\u001b[38;5;124m'\u001b[39m\u001b[38;5;124msave_name\u001b[39m\u001b[38;5;124m'\u001b[39m] \u001b[38;5;241m=\u001b[39m \u001b[38;5;124m'\u001b[39m\u001b[38;5;124mrd_\u001b[39m\u001b[38;5;124m'\u001b[39m \u001b[38;5;241m+\u001b[39m datetime\u001b[38;5;241m.\u001b[39mdatetime\u001b[38;5;241m.\u001b[39mnow()\u001b[38;5;241m.\u001b[39mstrftime(\u001b[38;5;124m\"\u001b[39m\u001b[38;5;124m%\u001b[39m\u001b[38;5;124mY_\u001b[39m\u001b[38;5;124m%\u001b[39m\u001b[38;5;124mm_\u001b[39m\u001b[38;5;132;01m%d\u001b[39;00m\u001b[38;5;124m_\u001b[39m\u001b[38;5;124m%\u001b[39m\u001b[38;5;124mH_\u001b[39m\u001b[38;5;124m%\u001b[39m\u001b[38;5;124mM_\u001b[39m\u001b[38;5;124m%\u001b[39m\u001b[38;5;124mS_\u001b[39m\u001b[38;5;132;01m%f\u001b[39;00m\u001b[38;5;124m\"\u001b[39m)\n\u001b[1;32m---> 10\u001b[0m tf\u001b[38;5;241m.\u001b[39mreset_default_graph()\n\u001b[0;32m     12\u001b[0m results_dict \u001b[38;5;241m=\u001b[39m train_network(training_data, validation_data, params)\n\u001b[0;32m     13\u001b[0m df \u001b[38;5;241m=\u001b[39m df\u001b[38;5;241m.\u001b[39mappend({\u001b[38;5;241m*\u001b[39m\u001b[38;5;241m*\u001b[39mresults_dict, \u001b[38;5;241m*\u001b[39m\u001b[38;5;241m*\u001b[39mparams}, ignore_index\u001b[38;5;241m=\u001b[39m\u001b[38;5;28;01mTrue\u001b[39;00m)\n",
      "\u001b[1;31mAttributeError\u001b[0m: module 'tensorflow' has no attribute 'reset_default_graph'"
     ]
    }
   ],
   "source": [
    "num_experiments = 10\n",
    "df = pd.DataFrame()\n",
    "for i in range(num_experiments):\n",
    "    print('EXPERIMENT %d' % i)\n",
    "\n",
    "    params['coefficient_mask'] = np.ones((params['library_dim'], params['latent_dim']))\n",
    "\n",
    "    params['save_name'] = 'rd_' + datetime.datetime.now().strftime(\"%Y_%m_%d_%H_%M_%S_%f\")\n",
    "\n",
    "    tf.reset_default_graph()\n",
    "\n",
    "    results_dict = train_network(training_data, validation_data, params)\n",
    "    df = df.append({**results_dict, **params}, ignore_index=True)\n",
    "\n",
    "df.to_pickle('experiment_results_' + datetime.datetime.now().strftime(\"%Y%m%d%H%M\") + '.pkl')"
   ]
  },
  {
   "cell_type": "code",
   "execution_count": null,
   "id": "f4e3b44a-ecb2-45b3-b083-a9278603c5e9",
   "metadata": {},
   "outputs": [],
   "source": []
  }
 ],
 "metadata": {
  "kernelspec": {
   "display_name": "Python 3 (ipykernel)",
   "language": "python",
   "name": "python3"
  },
  "language_info": {
   "codemirror_mode": {
    "name": "ipython",
    "version": 3
   },
   "file_extension": ".py",
   "mimetype": "text/x-python",
   "name": "python",
   "nbconvert_exporter": "python",
   "pygments_lexer": "ipython3",
   "version": "3.12.2"
  }
 },
 "nbformat": 4,
 "nbformat_minor": 5
}
