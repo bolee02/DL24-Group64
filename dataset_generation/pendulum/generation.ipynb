{
 "cells": [
  {
   "cell_type": "code",
   "execution_count": 1,
   "id": "4535cccd-f988-4608-8bfb-e98366444290",
   "metadata": {
    "ExecuteTime": {
     "end_time": "2024-04-02T12:16:19.457441700Z",
     "start_time": "2024-04-02T12:16:18.838932900Z"
    }
   },
   "outputs": [],
   "source": [
    "import sys\n",
    "sys.path.append(\"../../src\")\n",
    "import os\n",
    "import numpy as np\n",
    "import math\n",
    "\n",
    "from scipy.integrate import odeint"
   ]
  },
  {
   "cell_type": "markdown",
   "id": "cef2dcf5b0395c58",
   "metadata": {
    "collapsed": false,
    "jupyter": {
     "outputs_hidden": false
    }
   },
   "source": [
    "# Generate data"
   ]
  },
  {
   "cell_type": "code",
   "execution_count": 2,
   "id": "4675a660-f19d-4e34-9102-d281500711a6",
   "metadata": {
    "ExecuteTime": {
     "end_time": "2024-04-02T12:16:21.127543500Z",
     "start_time": "2024-04-02T12:16:21.053968600Z"
    }
   },
   "outputs": [],
   "source": [
    "def get_pendulum_data(n_ics):\n",
    "    t,x,dx,ddx,z = generate_pendulum_data(n_ics)\n",
    "    data = {}\n",
    "    data['t'] = t\n",
    "    data['x'] = x.reshape((n_ics*t.size, -1))\n",
    "    data['dx'] = dx.reshape((n_ics*t.size, -1))\n",
    "    data['ddx'] = ddx.reshape((n_ics*t.size, -1))\n",
    "    data['z'] = z.reshape((n_ics*t.size, -1))[:,0:1]\n",
    "    data['dz'] = z.reshape((n_ics*t.size, -1))[:,1:2]\n",
    "\n",
    "    return data\n",
    "\n",
    "\n",
    "def generate_pendulum_data(n_ics):\n",
    "    f  = lambda z, t : [z[1], -np.sin(z[0])]\n",
    "    t = np.arange(0, 10, .02)\n",
    "\n",
    "    z = np.zeros((n_ics,t.size,2))\n",
    "    dz = np.zeros(z.shape)\n",
    "\n",
    "    z1range = np.array([-np.pi,np.pi])\n",
    "    z2range = np.array([-2.1,2.1])\n",
    "    i = 0\n",
    "    while (i < n_ics):\n",
    "        z0 = np.array([(z1range[1]-z1range[0])*np.random.rand()+z1range[0],\n",
    "            (z2range[1]-z2range[0])*np.random.rand()+z2range[0]])\n",
    "        if np.abs(z0[1]**2/2. - np.cos(z0[0])) > .99:\n",
    "            continue\n",
    "        z[i] = odeint(f, z0, t)\n",
    "        dz[i] = np.array([f(z[i,j], t[j]) for j in range(len(t))])\n",
    "        i += 1\n",
    "\n",
    "    x,dx,ddx = pendulum_to_movie(z, dz)\n",
    "\n",
    "    return t,x,dx,ddx,z\n",
    "\n",
    "\n",
    "def pendulum_to_movie(z, dz):\n",
    "    n_ics = z.shape[0]\n",
    "    n_samples = z.shape[1]\n",
    "    n = 51\n",
    "    y1,y2 = np.meshgrid(np.linspace(-1.5,1.5,n),np.linspace(1.5,-1.5,n))\n",
    "    create_image = lambda theta : np.exp(-((y1-np.cos(theta-np.pi/2))**2 + (y2-np.sin(theta-np.pi/2))**2)/.05)\n",
    "    argument_derivative = lambda theta,dtheta : -1/.05*(2*(y1 - np.cos(theta-np.pi/2))*np.sin(theta-np.pi/2)*dtheta \\\n",
    "                                                      + 2*(y2 - np.sin(theta-np.pi/2))*(-np.cos(theta-np.pi/2))*dtheta)\n",
    "    argument_derivative2 = lambda theta,dtheta,ddtheta : -2/.05*((np.sin(theta-np.pi/2))*np.sin(theta-np.pi/2)*dtheta**2 \\\n",
    "                                                               + (y1 - np.cos(theta-np.pi/2))*np.cos(theta-np.pi/2)*dtheta**2 \\\n",
    "                                                               + (y1 - np.cos(theta-np.pi/2))*np.sin(theta-np.pi/2)*ddtheta \\\n",
    "                                                               + (-np.cos(theta-np.pi/2))*(-np.cos(theta-np.pi/2))*dtheta**2 \\\n",
    "                                                               + (y2 - np.sin(theta-np.pi/2))*(np.sin(theta-np.pi/2))*dtheta**2 \\\n",
    "                                                               + (y2 - np.sin(theta-np.pi/2))*(-np.cos(theta-np.pi/2))*ddtheta)\n",
    "        \n",
    "    x = np.zeros((n_ics, n_samples, n, n))\n",
    "    dx = np.zeros((n_ics, n_samples, n, n))\n",
    "    ddx = np.zeros((n_ics, n_samples, n, n))\n",
    "    for i in range(n_ics):\n",
    "        for j in range(n_samples):\n",
    "            z[i,j,0] = wrap_to_pi(z[i,j,0])\n",
    "            x[i,j] = create_image(z[i,j,0])\n",
    "            dx[i,j] = (create_image(z[i,j,0])*argument_derivative(z[i,j,0], dz[i,j,0]))\n",
    "            ddx[i,j] = create_image(z[i,j,0])*((argument_derivative(z[i,j,0], dz[i,j,0]))**2 \\\n",
    "                            + argument_derivative2(z[i,j,0], dz[i,j,0], dz[i,j,1]))\n",
    "            \n",
    "    return x,dx,ddx\n",
    "\n",
    "\n",
    "def wrap_to_pi(z):\n",
    "    z_mod = z % (2*np.pi)\n",
    "    subtract_m = (z_mod > np.pi) * (-2*np.pi)\n",
    "    return z_mod + subtract_m"
   ]
  },
  {
   "cell_type": "markdown",
   "id": "3f086b02-d4b8-48cd-8cf3-63030294b584",
   "metadata": {},
   "source": [
    "# Save data"
   ]
  },
  {
   "cell_type": "code",
   "execution_count": 3,
   "id": "65a02a2b-6145-4e43-a539-ef55ea92649a",
   "metadata": {
    "ExecuteTime": {
     "end_time": "2024-04-02T12:17:56.396232400Z",
     "start_time": "2024-04-02T12:17:29.045590600Z"
    }
   },
   "outputs": [],
   "source": [
    "import pickle\n",
    "\n",
    "training_data = get_pendulum_data(100)\n",
    "validation_data = get_pendulum_data(10)\n",
    "test_data = get_pendulum_data(10)\n",
    "\n",
    "pickle.dump(training_data, open('training_data.pkl', 'wb'))\n",
    "pickle.dump(validation_data, open('validation_data.pkl', 'wb'))\n",
    "pickle.dump(test_data, open('test_data.pkl', 'wb'))"
   ]
  },
  {
   "cell_type": "markdown",
   "id": "1f905a10-2b25-4d94-81f0-89c6eb38981f",
   "metadata": {},
   "source": [
    "# Set up model and training parameters"
   ]
  },
  {
   "cell_type": "code",
   "execution_count": 4,
   "id": "f9dbd32a-71c7-4356-892f-6ac385bf6abc",
   "metadata": {
    "ExecuteTime": {
     "end_time": "2024-04-02T12:18:14.137599900Z",
     "start_time": "2024-04-02T12:18:14.123657Z"
    }
   },
   "outputs": [],
   "source": [
    "params = {}\n",
    "\n",
    "def library_size(latent_dim, poly_order, include_sine=False, include_constant=True):\n",
    "    f = lambda latent_dim, poly_order: math.comb(latent_dim + poly_order -1, poly_order)\n",
    "    total = 0\n",
    "    for i in range(poly_order+1):\n",
    "        total += f(latent_dim, i)\n",
    "    if include_sine:\n",
    "        total += latent_dim\n",
    "    if not include_constant:\n",
    "        total -= 1\n",
    "    return total\n",
    "\n",
    "params['input_dim'] = training_data['x'].shape[-1]\n",
    "params['latent_dim'] = 1\n",
    "params['model_order'] = 2\n",
    "params['poly_order'] = 3\n",
    "params['include_sine'] = True\n",
    "params['library_dim'] = library_size(2*params['latent_dim'], params['poly_order'], params['include_sine'], True)\n",
    "\n",
    "# sequential thresholding parameters\n",
    "params['sequential_thresholding'] = True\n",
    "params['coefficient_threshold'] = 0.1\n",
    "params['threshold_frequency'] = 500\n",
    "params['coefficient_mask'] = np.ones((params['library_dim'], params['latent_dim']))\n",
    "params['coefficient_initialization'] = 'constant'\n",
    "\n",
    "# loss function weighting\n",
    "params['loss_weight_decoder'] = 1.0\n",
    "params['loss_weight_sindy_x'] = 5e-4\n",
    "params['loss_weight_sindy_z'] = 5e-5\n",
    "params['loss_weight_sindy_regularization'] = 1e-5\n",
    "\n",
    "params['activation'] = 'sigmoid'\n",
    "params['widths'] = [128,64,32]\n",
    "\n",
    "# training parameters\n",
    "params['epoch_size'] = training_data['x'].shape[0]\n",
    "params['batch_size'] = 1000\n",
    "params['learning_rate'] = 1e-4\n",
    "\n",
    "params['data_path'] = os.getcwd() + '/'\n",
    "params['print_progress'] = True\n",
    "params['print_frequency'] = 100\n",
    "\n",
    "# training time cutoffs\n",
    "params['max_epochs'] = 5001\n",
    "params['refinement_epochs'] = 1001"
   ]
  },
  {
   "cell_type": "code",
   "execution_count": null,
   "id": "8d5769ad78fb7686",
   "metadata": {
    "collapsed": false,
    "jupyter": {
     "outputs_hidden": false
    }
   },
   "outputs": [],
   "source": []
  }
 ],
 "metadata": {
  "kernelspec": {
   "display_name": "Python 3 (ipykernel)",
   "language": "python",
   "name": "python3"
  },
  "language_info": {
   "codemirror_mode": {
    "name": "ipython",
    "version": 3
   },
   "file_extension": ".py",
   "mimetype": "text/x-python",
   "name": "python",
   "nbconvert_exporter": "python",
   "pygments_lexer": "ipython3",
   "version": "3.12.2"
  }
 },
 "nbformat": 4,
 "nbformat_minor": 5
}
