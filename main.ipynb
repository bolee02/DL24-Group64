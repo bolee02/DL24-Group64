{
 "cells": [
  {
   "cell_type": "code",
   "execution_count": 1,
   "id": "9393c578-e82a-45b9-bf86-c474f345a8fc",
   "metadata": {},
   "outputs": [],
   "source": [
    "import pickle\n",
    "import torch\n",
    "from autoencoder.autoencoder import AutoEncoder\n",
    "from autoencoder.loss import Loss\n",
    "from sindy_network import SINDy\n",
    "from tqdm import tqdm"
   ]
  },
  {
   "cell_type": "code",
   "execution_count": 2,
   "id": "dd8dfac5-1fa7-41fa-8420-23265f513870",
   "metadata": {},
   "outputs": [
    {
     "name": "stderr",
     "output_type": "stream",
     "text": [
      "  0%|                                                               | 2/3001 [03:47<94:54:25, 113.93s/it, Loss: 0.5277]\n"
     ]
    },
    {
     "ename": "KeyboardInterrupt",
     "evalue": "",
     "output_type": "error",
     "traceback": [
      "\u001b[1;31m---------------------------------------------------------------------------\u001b[0m",
      "\u001b[1;31mKeyboardInterrupt\u001b[0m                         Traceback (most recent call last)",
      "Cell \u001b[1;32mIn[2], line 31\u001b[0m\n\u001b[0;32m     28\u001b[0m optimizer\u001b[38;5;241m.\u001b[39mzero_grad()  \u001b[38;5;66;03m# Zero the gradients\u001b[39;00m\n\u001b[0;32m     30\u001b[0m \u001b[38;5;66;03m# Forward pass\u001b[39;00m\n\u001b[1;32m---> 31\u001b[0m x, dx, dz, dz_pred, x_decode, dx_decode, sindy_coefficients, sindy_predict \u001b[38;5;241m=\u001b[39m sindy(torch\u001b[38;5;241m.\u001b[39mfrom_numpy(training_data[\u001b[38;5;124m'\u001b[39m\u001b[38;5;124mx\u001b[39m\u001b[38;5;124m'\u001b[39m])\u001b[38;5;241m.\u001b[39mto(device\u001b[38;5;241m=\u001b[39mdevice), torch\u001b[38;5;241m.\u001b[39mfrom_numpy(training_data[\u001b[38;5;124m'\u001b[39m\u001b[38;5;124mdx\u001b[39m\u001b[38;5;124m'\u001b[39m])\u001b[38;5;241m.\u001b[39mto(device\u001b[38;5;241m=\u001b[39mdevice),\u001b[38;5;241m0\u001b[39m)\n\u001b[0;32m     32\u001b[0m loss \u001b[38;5;241m=\u001b[39m criterion(x, dx, dz, dz_pred, x_decode, dx_decode, sindy_coefficients)\n\u001b[0;32m     33\u001b[0m epochs\u001b[38;5;241m.\u001b[39mset_postfix_str(\u001b[38;5;124mf\u001b[39m\u001b[38;5;124m\"\u001b[39m\u001b[38;5;124mLoss: \u001b[39m\u001b[38;5;132;01m{\u001b[39;00mloss\u001b[38;5;241m.\u001b[39mitem()\u001b[38;5;132;01m:\u001b[39;00m\u001b[38;5;124m.4f\u001b[39m\u001b[38;5;132;01m}\u001b[39;00m\u001b[38;5;124m\"\u001b[39m)\n",
      "File \u001b[1;32m~\\anaconda3\\Lib\\site-packages\\torch\\nn\\modules\\module.py:1511\u001b[0m, in \u001b[0;36mModule._wrapped_call_impl\u001b[1;34m(self, *args, **kwargs)\u001b[0m\n\u001b[0;32m   1509\u001b[0m     \u001b[38;5;28;01mreturn\u001b[39;00m \u001b[38;5;28mself\u001b[39m\u001b[38;5;241m.\u001b[39m_compiled_call_impl(\u001b[38;5;241m*\u001b[39margs, \u001b[38;5;241m*\u001b[39m\u001b[38;5;241m*\u001b[39mkwargs)  \u001b[38;5;66;03m# type: ignore[misc]\u001b[39;00m\n\u001b[0;32m   1510\u001b[0m \u001b[38;5;28;01melse\u001b[39;00m:\n\u001b[1;32m-> 1511\u001b[0m     \u001b[38;5;28;01mreturn\u001b[39;00m \u001b[38;5;28mself\u001b[39m\u001b[38;5;241m.\u001b[39m_call_impl(\u001b[38;5;241m*\u001b[39margs, \u001b[38;5;241m*\u001b[39m\u001b[38;5;241m*\u001b[39mkwargs)\n",
      "File \u001b[1;32m~\\anaconda3\\Lib\\site-packages\\torch\\nn\\modules\\module.py:1520\u001b[0m, in \u001b[0;36mModule._call_impl\u001b[1;34m(self, *args, **kwargs)\u001b[0m\n\u001b[0;32m   1515\u001b[0m \u001b[38;5;66;03m# If we don't have any hooks, we want to skip the rest of the logic in\u001b[39;00m\n\u001b[0;32m   1516\u001b[0m \u001b[38;5;66;03m# this function, and just call forward.\u001b[39;00m\n\u001b[0;32m   1517\u001b[0m \u001b[38;5;28;01mif\u001b[39;00m \u001b[38;5;129;01mnot\u001b[39;00m (\u001b[38;5;28mself\u001b[39m\u001b[38;5;241m.\u001b[39m_backward_hooks \u001b[38;5;129;01mor\u001b[39;00m \u001b[38;5;28mself\u001b[39m\u001b[38;5;241m.\u001b[39m_backward_pre_hooks \u001b[38;5;129;01mor\u001b[39;00m \u001b[38;5;28mself\u001b[39m\u001b[38;5;241m.\u001b[39m_forward_hooks \u001b[38;5;129;01mor\u001b[39;00m \u001b[38;5;28mself\u001b[39m\u001b[38;5;241m.\u001b[39m_forward_pre_hooks\n\u001b[0;32m   1518\u001b[0m         \u001b[38;5;129;01mor\u001b[39;00m _global_backward_pre_hooks \u001b[38;5;129;01mor\u001b[39;00m _global_backward_hooks\n\u001b[0;32m   1519\u001b[0m         \u001b[38;5;129;01mor\u001b[39;00m _global_forward_hooks \u001b[38;5;129;01mor\u001b[39;00m _global_forward_pre_hooks):\n\u001b[1;32m-> 1520\u001b[0m     \u001b[38;5;28;01mreturn\u001b[39;00m forward_call(\u001b[38;5;241m*\u001b[39margs, \u001b[38;5;241m*\u001b[39m\u001b[38;5;241m*\u001b[39mkwargs)\n\u001b[0;32m   1522\u001b[0m \u001b[38;5;28;01mtry\u001b[39;00m:\n\u001b[0;32m   1523\u001b[0m     result \u001b[38;5;241m=\u001b[39m \u001b[38;5;28;01mNone\u001b[39;00m\n",
      "File \u001b[1;32m~\\OneDrive\\Bureau\\Dossiers\\QIST\\Q3\\DL\\project\\DL24-Group64\\sindy_network.py:65\u001b[0m, in \u001b[0;36mSINDy.forward\u001b[1;34m(self, x, dx, ddx)\u001b[0m\n\u001b[0;32m     60\u001b[0m \u001b[38;5;28;01mdef\u001b[39;00m \u001b[38;5;21mforward\u001b[39m(\u001b[38;5;28mself\u001b[39m, x, dx, ddx)\u001b[38;5;241m-\u001b[39m\u001b[38;5;241m>\u001b[39m torch\u001b[38;5;241m.\u001b[39mTensor:\n\u001b[0;32m     61\u001b[0m \n\u001b[0;32m     62\u001b[0m   \u001b[38;5;66;03m#x = x.reshape(1, *x.shape)\u001b[39;00m\n\u001b[0;32m     63\u001b[0m   \u001b[38;5;66;03m#dx = dx.reshape(1, *dx.shape)\u001b[39;00m\n\u001b[1;32m---> 65\u001b[0m   z \u001b[38;5;241m=\u001b[39m \u001b[38;5;28mself\u001b[39m\u001b[38;5;241m.\u001b[39mencoder(torch\u001b[38;5;241m.\u001b[39mcat((x, dx)))\n\u001b[0;32m     66\u001b[0m   dz \u001b[38;5;241m=\u001b[39m z[z\u001b[38;5;241m.\u001b[39mshape[\u001b[38;5;241m0\u001b[39m]\u001b[38;5;241m/\u001b[39m\u001b[38;5;241m/\u001b[39m\u001b[38;5;241m2\u001b[39m:]\n\u001b[0;32m     67\u001b[0m   z \u001b[38;5;241m=\u001b[39m z[:z\u001b[38;5;241m.\u001b[39mshape[\u001b[38;5;241m0\u001b[39m]\u001b[38;5;241m/\u001b[39m\u001b[38;5;241m/\u001b[39m\u001b[38;5;241m2\u001b[39m]\n",
      "\u001b[1;31mKeyboardInterrupt\u001b[0m: "
     ]
    }
   ],
   "source": [
    "if __name__ == \"__main__\":\n",
    "    device = 'cuda' if torch.cuda.is_available() else 'cpu'\n",
    "    \n",
    "    params = pickle.load(open('utils/rd/model1_params.pkl', 'rb'))\n",
    "    training_data = pickle.load(open('dataset_generation/rd/training_data.pkl', 'rb'))\n",
    "\n",
    "    encoder = AutoEncoder(params, 'encoder')\n",
    "    decoder = AutoEncoder(params, 'decoder')\n",
    "    sindy = SINDy(encoder, decoder, params)\n",
    "\n",
    "    sindy = sindy.to(device=device)\n",
    "    \n",
    "    criterion = Loss(\n",
    "        params['loss_weight_decoder'],\n",
    "        params['loss_weight_sindy_z'],\n",
    "        params['loss_weight_sindy_x'],\n",
    "        params['loss_weight_sindy_regularization']\n",
    "        )\n",
    "\n",
    "    optimizer = torch.optim.Adam(sindy.parameters(), lr=0.01)\n",
    "\n",
    "    loss_item = \"Loss:\"\n",
    "    # Training loop\n",
    "    num_epochs = params['max_epochs']\n",
    "    with tqdm(range(num_epochs), postfix=loss_item) as epochs:\n",
    "        for epoch in epochs:\n",
    "            sindy.train()  # Set model to training mode\n",
    "            optimizer.zero_grad()  # Zero the gradients\n",
    "\n",
    "            # Forward pass\n",
    "            x, dx, dz, dz_pred, x_decode, dx_decode, sindy_coefficients, sindy_predict = sindy(torch.from_numpy(training_data['x']).to(device=device), torch.from_numpy(training_data['dx']).to(device=device),0)\n",
    "            loss = criterion(x, dx, dz, dz_pred, x_decode, dx_decode, sindy_coefficients)\n",
    "            epochs.set_postfix_str(f\"Loss: {loss.item():.4f}\")\n",
    "            # Backward pass\n",
    "            loss.backward()\n",
    "            optimizer.step()\n",
    "            \n",
    "    loss.set_regularization(False)\n",
    "    refinement_epochs = params['refinement_epochs']    \n",
    "    with tqdm(range(refinement_epochs), postfix=loss_item) as epochs:\n",
    "        for epoch in epochs:\n",
    "            sindy.train()  # Set model to training mode\n",
    "            optimizer.zero_grad()  # Zero the gradients\n",
    "\n",
    "            # Forward pass\n",
    "            x, dx, dz, dz_pred, x_decode, dx_decode, sindy_coefficients, sindy_predict = sindy(torch.from_numpy(training_data['x']).to(device=device), torch.from_numpy(training_data['dx']).to(device=device),0)\n",
    "            loss = criterion(x, dx, dz, dz_pred, x_decode, dx_decode, sindy_coefficients)\n",
    "            epochs.set_postfix_str(f\"Loss: {loss.item():.4f}\")\n",
    "            # Backward pass\n",
    "            loss.backward()\n",
    "            optimizer.step()"
   ]
  },
  {
   "cell_type": "code",
   "execution_count": null,
   "id": "de580443-fe1f-4dc4-a850-699677062d91",
   "metadata": {},
   "outputs": [],
   "source": []
  }
 ],
 "metadata": {
  "kernelspec": {
   "display_name": "Python 3 (ipykernel)",
   "language": "python",
   "name": "python3"
  },
  "language_info": {
   "codemirror_mode": {
    "name": "ipython",
    "version": 3
   },
   "file_extension": ".py",
   "mimetype": "text/x-python",
   "name": "python",
   "nbconvert_exporter": "python",
   "pygments_lexer": "ipython3",
   "version": "3.11.8"
  }
 },
 "nbformat": 4,
 "nbformat_minor": 5
}
