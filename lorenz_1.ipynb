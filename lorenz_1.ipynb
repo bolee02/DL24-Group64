{
 "cells": [
  {
   "cell_type": "code",
   "execution_count": 1,
   "metadata": {},
   "outputs": [],
   "source": [
    "from autoencoder.autoencoder import AutoEncoder\n",
    "import torch\n",
    "import pickle\n",
    "from autoencoder.loss import Loss\n",
    "from sindy_network import SINDy\n",
    "from sindy.SINDy_library import *\n",
    "import matplotlib.pyplot as plt\n",
    "from mpl_toolkits.mplot3d import Axes3D\n",
    "%matplotlib inline\n",
    "device = 'cuda'\n",
    "import numpy as np\n",
    "import dill\n",
    "  "
   ]
  },
  {
   "cell_type": "code",
   "execution_count": 2,
   "metadata": {},
   "outputs": [],
   "source": [
    "params = pickle.load(open('utils/model1_params.pkl', 'rb'))\n",
    "\n",
    "encoder = AutoEncoder(params, 'encoder')\n",
    "decoder = AutoEncoder(params, 'decoder')\n",
    "sindy = dill.load(open(f'model_lorenz_1_0', 'rb'))\n",
    "sindy.to(device)\n",
    "training_data = pickle.load(open('dataset_generation/test_data.pkl', 'rb'))\n",
    "\n",
    "criterion = Loss(\n",
    "        params['loss_weight_decoder'],\n",
    "        params['loss_weight_sindy_z'],\n",
    "        params['loss_weight_sindy_x'],\n",
    "        params['loss_weight_sindy_regularization']\n",
    "        )\n",
    "    \n",
    "def run():\n",
    "    x, dx, dz, dz_pred, x_decode, dx_decode, sindy_coefficients, sindy_predict, ddz, ddx, ddx_decode, z = sindy(torch.from_numpy(training_data['x']).to(device=device), torch.from_numpy(training_data['dx']).to(device=device), torch.from_numpy(training_data['ddx']).to(device=device))\n",
    "    loss = criterion(x, dx, dz, dz_pred, x_decode, dx_decode, sindy_coefficients, ddz, ddx, ddx_decode, sindy.coefficient_mask)\n",
    "     \n",
    "    return x, dx, dz, dz_pred, x_decode, dx_decode, sindy_coefficients, sindy_predict, ddz, ddx, ddx_decode, z, loss  "
   ]
  },
  {
   "cell_type": "code",
   "execution_count": 3,
   "metadata": {},
   "outputs": [],
   "source": [
    "x, dx, dz, dz_pred, x_decode, dx_decode, sindy_coefficients, sindy_predict, ddz, ddx, ddx_decode, z, loss = run()"
   ]
  },
  {
   "cell_type": "code",
   "execution_count": 4,
   "metadata": {},
   "outputs": [
    {
     "name": "stdout",
     "output_type": "stream",
     "text": [
      "tensor([[-0.2067,  0.2261, -0.3259],\n",
      "        [ 0.0728,  1.6787,  0.1120],\n",
      "        [-0.3164,  1.5964, -0.0918],\n",
      "        [-0.2406, -1.4314, -0.7607],\n",
      "        [ 0.8037,  0.8298, -0.2064],\n",
      "        [-0.9267,  0.5635,  0.7352],\n",
      "        [ 0.1400, -1.1611,  0.2231],\n",
      "        [ 0.7875, -0.8847,  0.1271],\n",
      "        [-0.0388,  0.7908,  0.2429],\n",
      "        [ 0.9496,  1.5199,  0.0140],\n",
      "        [-0.2841,  0.0173,  1.8171],\n",
      "        [ 0.0619, -0.6586,  0.5540],\n",
      "        [-0.2598, -0.3193, -0.1531],\n",
      "        [ 0.4314,  0.7759, -2.2955],\n",
      "        [ 0.5683,  0.9684,  0.2778],\n",
      "        [-0.6499, -0.8144,  1.8684],\n",
      "        [-2.0405, -0.6682, -1.2592],\n",
      "        [-1.4368, -1.3973, -2.8872],\n",
      "        [-1.0604, -1.6022, -0.3282],\n",
      "        [-1.2586,  0.2091,  0.9980]], dtype=torch.float64)\n"
     ]
    }
   ],
   "source": [
    "sindy_coefficients = sindy_coefficients.to('cpu')\n",
    "z = z.to('cpu').detach()#.numpy()\n",
    "a1 = 1\n",
    "a2 = training_data['sindy_coefficients'][2,0]/sindy_coefficients[2,0]\n",
    "a3 = np.sqrt(-sindy_coefficients[5,2]/sindy_coefficients[6,1]*a2**2)\n",
    "b3 = -sindy_coefficients[0,2]/sindy_coefficients[3,2]\n",
    "\n",
    "sindy_coefficients_transformed = np.zeros(sindy_coefficients.shape)\n",
    "sindy_coefficients_transformed[1,0] = sindy_coefficients[1,0]\n",
    "sindy_coefficients_transformed[2,0] = sindy_coefficients[2,0]*a2/a1\n",
    "sindy_coefficients_transformed[1,1] = sindy_coefficients[6,1]*a1/a2*b3\n",
    "sindy_coefficients_transformed[2,1] = sindy_coefficients[2,1]\n",
    "sindy_coefficients_transformed[6,1] = sindy_coefficients[6,1]*a1*a3/a2\n",
    "sindy_coefficients_transformed[3,2] = sindy_coefficients[3,2]\n",
    "sindy_coefficients_transformed[5,2] = sindy_coefficients[5,2]*a1*a2/a3\n",
    "\n",
    "z0_transformed = np.array([z[0,0]/a1,\n",
    "                           z[0,1]/a2,\n",
    "                           (z[0,2] - b3)/a3])\n",
    "\n",
    "print(sindy_coefficients)"
   ]
  },
  {
   "cell_type": "code",
   "execution_count": 5,
   "metadata": {},
   "outputs": [
    {
     "ename": "KeyboardInterrupt",
     "evalue": "",
     "output_type": "error",
     "traceback": [
      "\u001b[1;31m---------------------------------------------------------------------------\u001b[0m",
      "\u001b[1;31mKeyboardInterrupt\u001b[0m                         Traceback (most recent call last)",
      "Cell \u001b[1;32mIn[5], line 7\u001b[0m\n\u001b[0;32m      3\u001b[0m lorenz_sim \u001b[38;5;241m=\u001b[39m sindy_simulate(training_data[\u001b[38;5;124m'\u001b[39m\u001b[38;5;124mz\u001b[39m\u001b[38;5;124m'\u001b[39m][\u001b[38;5;241m0\u001b[39m, \u001b[38;5;241m0\u001b[39m], t, training_data[\u001b[38;5;124m'\u001b[39m\u001b[38;5;124msindy_coefficients\u001b[39m\u001b[38;5;124m'\u001b[39m],\n\u001b[0;32m      4\u001b[0m                             params[\u001b[38;5;124m'\u001b[39m\u001b[38;5;124mpoly_order\u001b[39m\u001b[38;5;124m'\u001b[39m], params[\u001b[38;5;124m'\u001b[39m\u001b[38;5;124minclude_sine\u001b[39m\u001b[38;5;124m'\u001b[39m])\n\u001b[0;32m      5\u001b[0m z_sim \u001b[38;5;241m=\u001b[39m sindy_simulate(torch\u001b[38;5;241m.\u001b[39mTensor\u001b[38;5;241m.\u001b[39mcpu(z[\u001b[38;5;241m0\u001b[39m])\u001b[38;5;241m.\u001b[39mnumpy(), t, torch\u001b[38;5;241m.\u001b[39mTensor\u001b[38;5;241m.\u001b[39mcpu(sindy\u001b[38;5;241m.\u001b[39mcoefficient_mask)\u001b[38;5;241m.\u001b[39mnumpy()\u001b[38;5;241m*\u001b[39mtorch\u001b[38;5;241m.\u001b[39mTensor\u001b[38;5;241m.\u001b[39mcpu(sindy_coefficients)\u001b[38;5;241m.\u001b[39mnumpy(),\n\u001b[0;32m      6\u001b[0m                        params[\u001b[38;5;124m'\u001b[39m\u001b[38;5;124mpoly_order\u001b[39m\u001b[38;5;124m'\u001b[39m], params[\u001b[38;5;124m'\u001b[39m\u001b[38;5;124minclude_sine\u001b[39m\u001b[38;5;124m'\u001b[39m])\n\u001b[1;32m----> 7\u001b[0m z_sim_transformed \u001b[38;5;241m=\u001b[39m \u001b[43msindy_simulate\u001b[49m\u001b[43m(\u001b[49m\u001b[43mz0_transformed\u001b[49m\u001b[43m,\u001b[49m\u001b[43m \u001b[49m\u001b[43mt\u001b[49m\u001b[43m,\u001b[49m\u001b[43m \u001b[49m\u001b[43msindy_coefficients_transformed\u001b[49m\u001b[43m,\u001b[49m\n\u001b[0;32m      8\u001b[0m \u001b[43m                                   \u001b[49m\u001b[43mparams\u001b[49m\u001b[43m[\u001b[49m\u001b[38;5;124;43m'\u001b[39;49m\u001b[38;5;124;43mpoly_order\u001b[39;49m\u001b[38;5;124;43m'\u001b[39;49m\u001b[43m]\u001b[49m\u001b[43m,\u001b[49m\u001b[43m \u001b[49m\u001b[43mparams\u001b[49m\u001b[43m[\u001b[49m\u001b[38;5;124;43m'\u001b[39;49m\u001b[38;5;124;43minclude_sine\u001b[39;49m\u001b[38;5;124;43m'\u001b[39;49m\u001b[43m]\u001b[49m\u001b[43m)\u001b[49m\n",
      "File \u001b[1;32mc:\\Users\\Kiki\\Documents\\GitHub\\DL24-Group64\\sindy\\SINDy_library.py:206\u001b[0m, in \u001b[0;36msindy_simulate\u001b[1;34m(x0, t, Xi, poly_order, include_sine)\u001b[0m\n\u001b[0;32m    203\u001b[0m n \u001b[38;5;241m=\u001b[39m x0\u001b[38;5;241m.\u001b[39msize\n\u001b[0;32m    204\u001b[0m f \u001b[38;5;241m=\u001b[39m \u001b[38;5;28;01mlambda\u001b[39;00m x,t : np\u001b[38;5;241m.\u001b[39mdot(sindy_library_simulate(np\u001b[38;5;241m.\u001b[39marray(x)\u001b[38;5;241m.\u001b[39mreshape((\u001b[38;5;241m1\u001b[39m,n)), poly_order, include_sine), Xi)\u001b[38;5;241m.\u001b[39mreshape((n,))\n\u001b[1;32m--> 206\u001b[0m x \u001b[38;5;241m=\u001b[39m \u001b[43modeint\u001b[49m\u001b[43m(\u001b[49m\u001b[43mf\u001b[49m\u001b[43m,\u001b[49m\u001b[43m \u001b[49m\u001b[43mx0\u001b[49m\u001b[43m,\u001b[49m\u001b[43m \u001b[49m\u001b[43mt\u001b[49m\u001b[43m)\u001b[49m\n\u001b[0;32m    207\u001b[0m \u001b[38;5;28;01mreturn\u001b[39;00m x\n",
      "File \u001b[1;32mc:\\Users\\Kiki\\AppData\\Local\\Programs\\Python\\Python311\\Lib\\site-packages\\scipy\\integrate\\_odepack_py.py:243\u001b[0m, in \u001b[0;36modeint\u001b[1;34m(func, y0, t, args, Dfun, col_deriv, full_output, ml, mu, rtol, atol, tcrit, h0, hmax, hmin, ixpr, mxstep, mxhnil, mxordn, mxords, printmessg, tfirst)\u001b[0m\n\u001b[0;32m    241\u001b[0m t \u001b[38;5;241m=\u001b[39m copy(t)\n\u001b[0;32m    242\u001b[0m y0 \u001b[38;5;241m=\u001b[39m copy(y0)\n\u001b[1;32m--> 243\u001b[0m output \u001b[38;5;241m=\u001b[39m \u001b[43m_odepack\u001b[49m\u001b[38;5;241;43m.\u001b[39;49m\u001b[43modeint\u001b[49m\u001b[43m(\u001b[49m\u001b[43mfunc\u001b[49m\u001b[43m,\u001b[49m\u001b[43m \u001b[49m\u001b[43my0\u001b[49m\u001b[43m,\u001b[49m\u001b[43m \u001b[49m\u001b[43mt\u001b[49m\u001b[43m,\u001b[49m\u001b[43m \u001b[49m\u001b[43margs\u001b[49m\u001b[43m,\u001b[49m\u001b[43m \u001b[49m\u001b[43mDfun\u001b[49m\u001b[43m,\u001b[49m\u001b[43m \u001b[49m\u001b[43mcol_deriv\u001b[49m\u001b[43m,\u001b[49m\u001b[43m \u001b[49m\u001b[43mml\u001b[49m\u001b[43m,\u001b[49m\u001b[43m \u001b[49m\u001b[43mmu\u001b[49m\u001b[43m,\u001b[49m\n\u001b[0;32m    244\u001b[0m \u001b[43m                         \u001b[49m\u001b[43mfull_output\u001b[49m\u001b[43m,\u001b[49m\u001b[43m \u001b[49m\u001b[43mrtol\u001b[49m\u001b[43m,\u001b[49m\u001b[43m \u001b[49m\u001b[43matol\u001b[49m\u001b[43m,\u001b[49m\u001b[43m \u001b[49m\u001b[43mtcrit\u001b[49m\u001b[43m,\u001b[49m\u001b[43m \u001b[49m\u001b[43mh0\u001b[49m\u001b[43m,\u001b[49m\u001b[43m \u001b[49m\u001b[43mhmax\u001b[49m\u001b[43m,\u001b[49m\u001b[43m \u001b[49m\u001b[43mhmin\u001b[49m\u001b[43m,\u001b[49m\n\u001b[0;32m    245\u001b[0m \u001b[43m                         \u001b[49m\u001b[43mixpr\u001b[49m\u001b[43m,\u001b[49m\u001b[43m \u001b[49m\u001b[43mmxstep\u001b[49m\u001b[43m,\u001b[49m\u001b[43m \u001b[49m\u001b[43mmxhnil\u001b[49m\u001b[43m,\u001b[49m\u001b[43m \u001b[49m\u001b[43mmxordn\u001b[49m\u001b[43m,\u001b[49m\u001b[43m \u001b[49m\u001b[43mmxords\u001b[49m\u001b[43m,\u001b[49m\n\u001b[0;32m    246\u001b[0m \u001b[43m                         \u001b[49m\u001b[38;5;28;43mint\u001b[39;49m\u001b[43m(\u001b[49m\u001b[38;5;28;43mbool\u001b[39;49m\u001b[43m(\u001b[49m\u001b[43mtfirst\u001b[49m\u001b[43m)\u001b[49m\u001b[43m)\u001b[49m\u001b[43m)\u001b[49m\n\u001b[0;32m    247\u001b[0m \u001b[38;5;28;01mif\u001b[39;00m output[\u001b[38;5;241m-\u001b[39m\u001b[38;5;241m1\u001b[39m] \u001b[38;5;241m<\u001b[39m \u001b[38;5;241m0\u001b[39m:\n\u001b[0;32m    248\u001b[0m     warning_msg \u001b[38;5;241m=\u001b[39m (\u001b[38;5;124mf\u001b[39m\u001b[38;5;124m\"\u001b[39m\u001b[38;5;132;01m{\u001b[39;00m_msgs[output[\u001b[38;5;241m-\u001b[39m\u001b[38;5;241m1\u001b[39m]]\u001b[38;5;132;01m}\u001b[39;00m\u001b[38;5;124m Run with full_output = 1 to \u001b[39m\u001b[38;5;124m\"\u001b[39m\n\u001b[0;32m    249\u001b[0m                    \u001b[38;5;124mf\u001b[39m\u001b[38;5;124m\"\u001b[39m\u001b[38;5;124mget quantitative information.\u001b[39m\u001b[38;5;124m\"\u001b[39m)\n",
      "File \u001b[1;32mc:\\Users\\Kiki\\Documents\\GitHub\\DL24-Group64\\sindy\\SINDy_library.py:204\u001b[0m, in \u001b[0;36msindy_simulate.<locals>.<lambda>\u001b[1;34m(x, t)\u001b[0m\n\u001b[0;32m    202\u001b[0m m \u001b[38;5;241m=\u001b[39m t\u001b[38;5;241m.\u001b[39msize\n\u001b[0;32m    203\u001b[0m n \u001b[38;5;241m=\u001b[39m x0\u001b[38;5;241m.\u001b[39msize\n\u001b[1;32m--> 204\u001b[0m f \u001b[38;5;241m=\u001b[39m \u001b[38;5;28;01mlambda\u001b[39;00m x,t : \u001b[43mnp\u001b[49m\u001b[38;5;241;43m.\u001b[39;49m\u001b[43mdot\u001b[49m\u001b[43m(\u001b[49m\u001b[43msindy_library_simulate\u001b[49m\u001b[43m(\u001b[49m\u001b[43mnp\u001b[49m\u001b[38;5;241;43m.\u001b[39;49m\u001b[43marray\u001b[49m\u001b[43m(\u001b[49m\u001b[43mx\u001b[49m\u001b[43m)\u001b[49m\u001b[38;5;241;43m.\u001b[39;49m\u001b[43mreshape\u001b[49m\u001b[43m(\u001b[49m\u001b[43m(\u001b[49m\u001b[38;5;241;43m1\u001b[39;49m\u001b[43m,\u001b[49m\u001b[43mn\u001b[49m\u001b[43m)\u001b[49m\u001b[43m)\u001b[49m\u001b[43m,\u001b[49m\u001b[43m \u001b[49m\u001b[43mpoly_order\u001b[49m\u001b[43m,\u001b[49m\u001b[43m \u001b[49m\u001b[43minclude_sine\u001b[49m\u001b[43m)\u001b[49m\u001b[43m,\u001b[49m\u001b[43m \u001b[49m\u001b[43mXi\u001b[49m\u001b[43m)\u001b[49m\u001b[38;5;241m.\u001b[39mreshape((n,))\n\u001b[0;32m    206\u001b[0m x \u001b[38;5;241m=\u001b[39m odeint(f, x0, t)\n\u001b[0;32m    207\u001b[0m \u001b[38;5;28;01mreturn\u001b[39;00m x\n",
      "\u001b[1;31mKeyboardInterrupt\u001b[0m: "
     ]
    }
   ],
   "source": [
    "t = np.arange(0,20,.01)\n",
    "z0 = np.array([[-8,7,27]])\n",
    "lorenz_sim = sindy_simulate(training_data['z'][0, 0], t, training_data['sindy_coefficients'],\n",
    "                            params['poly_order'], params['include_sine'])\n",
    "z_sim = sindy_simulate(torch.Tensor.cpu(z[0]).numpy(), t, torch.Tensor.cpu(sindy.coefficient_mask).numpy()*torch.Tensor.cpu(sindy_coefficients).numpy(),\n",
    "                       params['poly_order'], params['include_sine'])\n",
    "z_sim_transformed = sindy_simulate(z0_transformed, t, sindy_coefficients_transformed,\n",
    "                                   params['poly_order'], params['include_sine'])"
   ]
  },
  {
   "cell_type": "code",
   "execution_count": null,
   "metadata": {},
   "outputs": [
    {
     "data": {
      "image/png": "[encoded data removed]",
      "text/plain": [
       "<Figure size 300x300 with 1 Axes>"
      ]
     },
     "metadata": {},
     "output_type": "display_data"
    },
    {
     "data": {
      "image/png": "[encoded data removed]",
      "text/plain": [
       "<Figure size 300x300 with 1 Axes>"
      ]
     },
     "metadata": {},
     "output_type": "display_data"
    },
    {
     "data": {
      "image/png": "[encoded data removed]",
      "text/plain": [
       "<Figure size 300x300 with 1 Axes>"
      ]
     },
     "metadata": {},
     "output_type": "display_data"
    }
   ],
   "source": [
    "fig1 = plt.figure(figsize=(3,3))\n",
    "ax1 = fig1.add_subplot(111, projection='3d')\n",
    "ax1.plot(z_sim[:,0], z_sim[:,1], z_sim[:,2], linewidth=2)\n",
    "plt.axis('off')\n",
    "ax1.view_init(azim=120)\n",
    "\n",
    "fig2 = plt.figure(figsize=(3,3))\n",
    "ax2 = fig2.add_subplot(111, projection='3d')\n",
    "ax2.plot(z_sim_transformed[:,0], z_sim_transformed[:,1], z_sim_transformed[:,2], linewidth=2)\n",
    "plt.axis('off')\n",
    "ax2.view_init(azim=120)\n",
    "\n",
    "fig3 = plt.figure(figsize=(3,3))\n",
    "ax3 = fig3.add_subplot(111, projection='3d')\n",
    "ax3.plot(lorenz_sim[:,0], lorenz_sim[:,1], lorenz_sim[:,2], linewidth=2)\n",
    "plt.xticks([])\n",
    "plt.axis('off')\n",
    "ax3.view_init(azim=120)"
   ]
  },
  {
   "cell_type": "code",
   "execution_count": null,
   "metadata": {},
   "outputs": [
    {
     "data": {
      "image/png": "[encoded data removed]",
      "text/plain": [
       "<Figure size 300x300 with 3 Axes>"
      ]
     },
     "metadata": {},
     "output_type": "display_data"
    }
   ],
   "source": [
    "plt.figure(figsize=(3,3))\n",
    "for i in range(3):\n",
    "    plt.subplot(3,1,i+1)\n",
    "    plt.plot(t, z[:2000,i], color='#888888', linewidth=2)\n",
    "    plt.plot(t, z_sim[:,i], '--', linewidth=2)\n",
    "    plt.xticks([])\n",
    "    plt.yticks([])\n",
    "    plt.axis('off')"
   ]
  },
  {
   "cell_type": "code",
   "execution_count": null,
   "metadata": {},
   "outputs": [
    {
     "name": "stdout",
     "output_type": "stream",
     "text": [
      "tensor([[-0.2067,  0.2261, -0.3259],\n",
      "        [ 0.0728,  1.6787,  0.1120],\n",
      "        [-0.3164,  1.5964, -0.0918],\n",
      "        [-0.2406, -1.4314, -0.7607],\n",
      "        [ 0.8037,  0.8298, -0.2064],\n",
      "        [-0.9267,  0.5635,  0.7352],\n",
      "        [ 0.1400, -1.1611,  0.2231],\n",
      "        [ 0.7875, -0.8847,  0.1271],\n",
      "        [-0.0388,  0.7908,  0.2429],\n",
      "        [ 0.9496,  1.5199,  0.0140],\n",
      "        [-0.2841,  0.0173,  1.8171],\n",
      "        [ 0.0619, -0.6586,  0.5540],\n",
      "        [-0.2598, -0.3193, -0.1531],\n",
      "        [ 0.4314,  0.7759, -2.2955],\n",
      "        [ 0.5683,  0.9684,  0.2778],\n",
      "        [-0.6499, -0.8144,  1.8684],\n",
      "        [-2.0405, -0.6682, -1.2592],\n",
      "        [-1.4368, -1.3973, -2.8872],\n",
      "        [-1.0604, -1.6022, -0.3282],\n",
      "        [-1.2586,  0.2091,  0.9980]], device='cuda:0', dtype=torch.float64)\n"
     ]
    },
    {
     "data": {
      "image/png": "[encoded data removed]",
      "text/plain": [
       "<Figure size 100x200 with 1 Axes>"
      ]
     },
     "metadata": {},
     "output_type": "display_data"
    },
    {
     "data": {
      "image/png": "[encoded data removed]",
      "text/plain": [
       "<Figure size 100x200 with 1 Axes>"
      ]
     },
     "metadata": {},
     "output_type": "display_data"
    },
    {
     "data": {
      "image/png": "[encoded data removed]",
      "text/plain": [
       "<Figure size 100x200 with 1 Axes>"
      ]
     },
     "metadata": {},
     "output_type": "display_data"
    }
   ],
   "source": [
    "Xi_plot = (params['coefficient_mask']*sindy_coefficients.numpy())\n",
    "Xi_plot[Xi_plot==0] = np.inf\n",
    "plt.figure(figsize=(1,2))\n",
    "plt.imshow(Xi_plot, interpolation='none')\n",
    "plt.xticks([])\n",
    "plt.yticks([])\n",
    "plt.axis('off')\n",
    "plt.clim([-10,30])\n",
    "\n",
    "Xi_transformed_plot = np.copy(sindy_coefficients_transformed)\n",
    "Xi_transformed_plot[Xi_transformed_plot==0] = np.inf\n",
    "plt.figure(figsize=(1,2))\n",
    "plt.imshow(Xi_transformed_plot, interpolation='none')\n",
    "plt.xticks([])\n",
    "plt.yticks([])\n",
    "plt.axis('off')\n",
    "plt.clim([-10,30])\n",
    "\n",
    "Xi_true_plot = np.copy(training_data['sindy_coefficients'])\n",
    "Xi_true_plot[Xi_true_plot==0] = np.inf\n",
    "Xi_true_plot[6,1] = -1.\n",
    "Xi_true_plot[5,2] = 1.\n",
    "plt.figure(figsize=(1,2))\n",
    "plt.imshow(Xi_true_plot, interpolation='none')\n",
    "plt.xticks([])\n",
    "plt.yticks([])\n",
    "plt.axis('off')\n",
    "plt.clim([-10,30])\n",
    "\n",
    "print(sindy.sindy_coefficients)"
   ]
  }
 ],
 "metadata": {
  "kernelspec": {
   "display_name": "Python 3",
   "language": "python",
   "name": "python3"
  },
  "language_info": {
   "codemirror_mode": {
    "name": "ipython",
    "version": 3
   },
   "file_extension": ".py",
   "mimetype": "text/x-python",
   "name": "python",
   "nbconvert_exporter": "python",
   "pygments_lexer": "ipython3",
   "version": "3.11.1"
  }
 },
 "nbformat": 4,
 "nbformat_minor": 2
}
