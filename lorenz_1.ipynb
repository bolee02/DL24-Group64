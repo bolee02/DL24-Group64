{
 "cells": [
  {
   "cell_type": "code",
   "execution_count": 35,
   "metadata": {},
   "outputs": [],
   "source": [
    "from autoencoder.autoencoder import AutoEncoder\n",
    "import torch\n",
    "import pickle\n",
    "from autoencoder.loss import Loss\n",
    "from sindy_network import SINDy\n",
    "from sindy.SINDy_library import *\n",
    "import matplotlib.pyplot as plt\n",
    "from mpl_toolkits.mplot3d import Axes3D\n",
    "%matplotlib inline\n",
    "device = 'cuda'\n",
    "import numpy as np\n",
    "  "
   ]
  },
  {
   "cell_type": "code",
   "execution_count": 36,
   "metadata": {},
   "outputs": [],
   "source": [
    "params = pickle.load(open('utils/model1_params.pkl', 'rb'))\n",
    "\n",
    "encoder = AutoEncoder(params, 'encoder')\n",
    "decoder = AutoEncoder(params, 'decoder')\n",
    "sindy = torch.load('model_lorenz_1')\n",
    "sindy.to(device)\n",
    "training_data = pickle.load(open('dataset_generation/test_data.pkl', 'rb'))\n",
    "\n",
    "criterion = Loss(\n",
    "        params['loss_weight_decoder'],\n",
    "        params['loss_weight_sindy_z'],\n",
    "        params['loss_weight_sindy_x'],\n",
    "        params['loss_weight_sindy_regularization']\n",
    "        )\n",
    "    \n",
    "def run():\n",
    "    x, dx, dz, dz_pred, x_decode, dx_decode, sindy_coefficients, sindy_predict, ddz, ddx, ddx_decode, z = sindy(torch.from_numpy(training_data['x']).to(device=device), torch.from_numpy(training_data['dx']).to(device=device), torch.from_numpy(training_data['ddx']).to(device=device))\n",
    "    loss = criterion(x, dx, dz, dz_pred, x_decode, dx_decode, sindy_coefficients, ddz, ddx, ddx_decode, sindy.coefficient_mask)\n",
    "     \n",
    "    return x, dx, dz, dz_pred, x_decode, dx_decode, sindy_coefficients, sindy_predict, ddz, ddx, ddx_decode, z, loss  "
   ]
  },
  {
   "cell_type": "code",
   "execution_count": 37,
   "metadata": {},
   "outputs": [],
   "source": [
    "x, dx, dz, dz_pred, x_decode, dx_decode, sindy_coefficients, sindy_predict, ddz, ddx, ddx_decode, z, loss = run()"
   ]
  },
  {
   "cell_type": "code",
   "execution_count": 38,
   "metadata": {},
   "outputs": [
    {
     "name": "stdout",
     "output_type": "stream",
     "text": [
      "tensor([[ 0.7554, -0.9881,  0.2119],\n",
      "        [ 0.2432, -0.4033, -0.9877],\n",
      "        [ 0.0979,  0.9395,  0.5763],\n",
      "        [ 1.0756,  0.3589, -1.6540],\n",
      "        [ 0.3811, -0.3289, -0.1072],\n",
      "        [ 0.9723, -0.2389, -1.6997],\n",
      "        [ 1.1218, -0.2144,  1.5381],\n",
      "        [-0.4103,  0.4438, -0.4333],\n",
      "        [-1.0776, -0.0151, -0.1223],\n",
      "        [ 1.0848,  1.1030,  0.6602],\n",
      "        [-0.1244,  0.7805,  0.4048],\n",
      "        [ 1.3512, -0.4116, -0.1138],\n",
      "        [-0.8704, -0.5205, -0.6409],\n",
      "        [-0.2853, -0.5189, -1.4681],\n",
      "        [-0.3985, -1.0855, -1.2527],\n",
      "        [-0.2175, -0.1933,  1.1634],\n",
      "        [ 0.1764,  1.3071, -0.1767],\n",
      "        [ 1.6453,  0.4988, -1.9910],\n",
      "        [-0.0858, -0.4611,  1.9484],\n",
      "        [-0.6422,  0.0913, -0.2977]], dtype=torch.float64)\n"
     ]
    },
    {
     "name": "stderr",
     "output_type": "stream",
     "text": [
      "C:\\Users\\Kiki\\AppData\\Local\\Temp\\ipykernel_13900\\2523956335.py:5: RuntimeWarning: invalid value encountered in sqrt\n",
      "  a3 = np.sqrt(-sindy_coefficients[5,2]/sindy_coefficients[6,1]*a2**2)\n"
     ]
    }
   ],
   "source": [
    "sindy_coefficients = sindy_coefficients.to('cpu')\n",
    "z = z.to('cpu').detach()#.numpy()\n",
    "a1 = 1\n",
    "a2 = training_data['sindy_coefficients'][2,0]/sindy_coefficients[2,0]\n",
    "a3 = np.sqrt(-sindy_coefficients[5,2]/sindy_coefficients[6,1]*a2**2)\n",
    "b3 = -sindy_coefficients[0,2]/sindy_coefficients[3,2]\n",
    "\n",
    "sindy_coefficients_transformed = np.zeros(sindy_coefficients.shape)\n",
    "sindy_coefficients_transformed[1,0] = sindy_coefficients[1,0]\n",
    "sindy_coefficients_transformed[2,0] = sindy_coefficients[2,0]*a2/a1\n",
    "sindy_coefficients_transformed[1,1] = sindy_coefficients[6,1]*a1/a2*b3\n",
    "sindy_coefficients_transformed[2,1] = sindy_coefficients[2,1]\n",
    "sindy_coefficients_transformed[6,1] = sindy_coefficients[6,1]*a1*a3/a2\n",
    "sindy_coefficients_transformed[3,2] = sindy_coefficients[3,2]\n",
    "sindy_coefficients_transformed[5,2] = sindy_coefficients[5,2]*a1*a2/a3\n",
    "\n",
    "z0_transformed = np.array([z[0,0]/a1,\n",
    "                           z[0,1]/a2,\n",
    "                           (z[0,2] - b3)/a3])\n",
    "\n",
    "print(sindy_coefficients)"
   ]
  },
  {
   "cell_type": "code",
   "execution_count": 39,
   "metadata": {},
   "outputs": [],
   "source": [
    "t = np.arange(0,20,.01)\n",
    "z0 = np.array([[-8,7,27]])\n",
    "lorenz_sim = sindy_simulate(training_data['z'][0, 0], t, training_data['sindy_coefficients'],\n",
    "                            params['poly_order'], params['include_sine'])\n",
    "z_sim = sindy_simulate(torch.Tensor.cpu(z[0]).numpy(), t, torch.Tensor.cpu(sindy.coefficient_mask).numpy()*torch.Tensor.cpu(sindy_coefficients).numpy(),\n",
    "                       params['poly_order'], params['include_sine'])\n",
    "z_sim_transformed = sindy_simulate(z0_transformed, t, sindy_coefficients_transformed,\n",
    "                                   params['poly_order'], params['include_sine'])"
   ]
  },
  {
   "cell_type": "code",
   "execution_count": 40,
   "metadata": {},
   "outputs": [
    {
     "data": {
      "image/png": "[encoded data removed]",
      "text/plain": [
       "<Figure size 300x300 with 1 Axes>"
      ]
     },
     "metadata": {},
     "output_type": "display_data"
    },
    {
     "data": {
      "image/png": "[encoded data removed]",
      "text/plain": [
       "<Figure size 300x300 with 1 Axes>"
      ]
     },
     "metadata": {},
     "output_type": "display_data"
    },
    {
     "data": {
      "image/png": "[encoded data removed]",
      "text/plain": [
       "<Figure size 300x300 with 1 Axes>"
      ]
     },
     "metadata": {},
     "output_type": "display_data"
    }
   ],
   "source": [
    "fig1 = plt.figure(figsize=(3,3))\n",
    "ax1 = fig1.add_subplot(111, projection='3d')\n",
    "ax1.plot(z_sim[:,0], z_sim[:,1], z_sim[:,2], linewidth=2)\n",
    "plt.axis('off')\n",
    "ax1.view_init(azim=120)\n",
    "\n",
    "fig2 = plt.figure(figsize=(3,3))\n",
    "ax2 = fig2.add_subplot(111, projection='3d')\n",
    "ax2.plot(z_sim_transformed[:,0], z_sim_transformed[:,1], z_sim_transformed[:,2], linewidth=2)\n",
    "plt.axis('off')\n",
    "ax2.view_init(azim=120)\n",
    "\n",
    "fig3 = plt.figure(figsize=(3,3))\n",
    "ax3 = fig3.add_subplot(111, projection='3d')\n",
    "ax3.plot(lorenz_sim[:,0], lorenz_sim[:,1], lorenz_sim[:,2], linewidth=2)\n",
    "plt.xticks([])\n",
    "plt.axis('off')\n",
    "ax3.view_init(azim=120)"
   ]
  },
  {
   "cell_type": "code",
   "execution_count": 41,
   "metadata": {},
   "outputs": [
    {
     "data": {
      "image/png": "[encoded data removed]",
      "text/plain": [
       "<Figure size 300x300 with 3 Axes>"
      ]
     },
     "metadata": {},
     "output_type": "display_data"
    }
   ],
   "source": [
    "plt.figure(figsize=(3,3))\n",
    "for i in range(3):\n",
    "    plt.subplot(3,1,i+1)\n",
    "    plt.plot(t, z[:2000,i], color='#888888', linewidth=2)\n",
    "    plt.plot(t, z_sim[:,i], '--', linewidth=2)\n",
    "    plt.xticks([])\n",
    "    plt.yticks([])\n",
    "    plt.axis('off')"
   ]
  },
  {
   "cell_type": "code",
   "execution_count": 42,
   "metadata": {},
   "outputs": [
    {
     "name": "stdout",
     "output_type": "stream",
     "text": [
      "tensor([[ 0.7554, -0.9881,  0.2119],\n",
      "        [ 0.2432, -0.4033, -0.9877],\n",
      "        [ 0.0979,  0.9395,  0.5763],\n",
      "        [ 1.0756,  0.3589, -1.6540],\n",
      "        [ 0.3811, -0.3289, -0.1072],\n",
      "        [ 0.9723, -0.2389, -1.6997],\n",
      "        [ 1.1218, -0.2144,  1.5381],\n",
      "        [-0.4103,  0.4438, -0.4333],\n",
      "        [-1.0776, -0.0151, -0.1223],\n",
      "        [ 1.0848,  1.1030,  0.6602],\n",
      "        [-0.1244,  0.7805,  0.4048],\n",
      "        [ 1.3512, -0.4116, -0.1138],\n",
      "        [-0.8704, -0.5205, -0.6409],\n",
      "        [-0.2853, -0.5189, -1.4681],\n",
      "        [-0.3985, -1.0855, -1.2527],\n",
      "        [-0.2175, -0.1933,  1.1634],\n",
      "        [ 0.1764,  1.3071, -0.1767],\n",
      "        [ 1.6453,  0.4988, -1.9910],\n",
      "        [-0.0858, -0.4611,  1.9484],\n",
      "        [-0.6422,  0.0913, -0.2977]], device='cuda:0', dtype=torch.float64)\n"
     ]
    },
    {
     "data": {
      "image/png": "[encoded data removed]",
      "text/plain": [
       "<Figure size 100x200 with 1 Axes>"
      ]
     },
     "metadata": {},
     "output_type": "display_data"
    },
    {
     "data": {
      "image/png": "[encoded data removed]",
      "text/plain": [
       "<Figure size 100x200 with 1 Axes>"
      ]
     },
     "metadata": {},
     "output_type": "display_data"
    },
    {
     "data": {
      "image/png": "[encoded data removed]",
      "text/plain": [
       "<Figure size 100x200 with 1 Axes>"
      ]
     },
     "metadata": {},
     "output_type": "display_data"
    }
   ],
   "source": [
    "Xi_plot = (params['coefficient_mask']*sindy_coefficients.numpy())\n",
    "Xi_plot[Xi_plot==0] = np.inf\n",
    "plt.figure(figsize=(1,2))\n",
    "plt.imshow(Xi_plot, interpolation='none')\n",
    "plt.xticks([])\n",
    "plt.yticks([])\n",
    "plt.axis('off')\n",
    "plt.clim([-10,30])\n",
    "\n",
    "Xi_transformed_plot = np.copy(sindy_coefficients_transformed)\n",
    "Xi_transformed_plot[Xi_transformed_plot==0] = np.inf\n",
    "plt.figure(figsize=(1,2))\n",
    "plt.imshow(Xi_transformed_plot, interpolation='none')\n",
    "plt.xticks([])\n",
    "plt.yticks([])\n",
    "plt.axis('off')\n",
    "plt.clim([-10,30])\n",
    "\n",
    "Xi_true_plot = np.copy(training_data['sindy_coefficients'])\n",
    "Xi_true_plot[Xi_true_plot==0] = np.inf\n",
    "Xi_true_plot[6,1] = -1.\n",
    "Xi_true_plot[5,2] = 1.\n",
    "plt.figure(figsize=(1,2))\n",
    "plt.imshow(Xi_true_plot, interpolation='none')\n",
    "plt.xticks([])\n",
    "plt.yticks([])\n",
    "plt.axis('off')\n",
    "plt.clim([-10,30])\n",
    "\n",
    "print(sindy.sindy_coefficients)"
   ]
  }
 ],
 "metadata": {
  "kernelspec": {
   "display_name": "Python 3",
   "language": "python",
   "name": "python3"
  },
  "language_info": {
   "codemirror_mode": {
    "name": "ipython",
    "version": 3
   },
   "file_extension": ".py",
   "mimetype": "text/x-python",
   "name": "python",
   "nbconvert_exporter": "python",
   "pygments_lexer": "ipython3",
   "version": "3.11.1"
  }
 },
 "nbformat": 4,
 "nbformat_minor": 2
}
